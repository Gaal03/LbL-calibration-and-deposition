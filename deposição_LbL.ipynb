{
 "cells": [
  {
   "cell_type": "code",
   "execution_count": null,
   "metadata": {},
   "outputs": [],
   "source": [
    "#import visa\n",
    "import serial\n",
    "import numpy as np\n",
    "import time\n",
    "import matplotlib.pyplot as plt\n",
    "import io\n",
    "#rm = visa.ResourceManager()"
   ]
  },
  {
   "cell_type": "code",
   "execution_count": null,
   "metadata": {},
   "outputs": [],
   "source": [
    "#### Conectar instrumento ####\n",
    "\n",
    "#instruments = (rm.list_resources())\n",
    "#print(instruments)\n",
    "\n",
    "arduino = serial.Serial('COM6')\n"
   ]
  },
  {
   "cell_type": "code",
   "execution_count": null,
   "metadata": {},
   "outputs": [],
   "source": [
    "#pico.close()\n",
    "#arduino.close()\n",
    "#line=arduino.readline()"
   ]
  },
  {
   "cell_type": "code",
   "execution_count": null,
   "metadata": {},
   "outputs": [],
   "source": [
    "### Parametros de entrada ###\n",
    "\n",
    "n_bicamadas = 30\n",
    "\n",
    "tempo_imerso_pos = 15 # em minutos\n",
    "tempo_imerso_neg = 15 # em minutos\n",
    "tempo_lavagem = 2 # em segundos\n",
    "deslocamento = 56 # em milímetros\n",
    "\n",
    "\n",
    "#for j in range(0, ciclos):\n",
    "for j in range(0, n_bicamadas):\n",
    "    print(str(j+1)+'.1')\n",
    "    comando = '5,10,60,'+str(deslocamento)+','+str(tempo_imerso_pos)+','+str(tempo_lavagem)+'\\n'\n",
    "    arduino.write(comando.encode('utf-8'))\n",
    "    arduino.readline()\n",
    "    time.sleep(10)\n",
    "\n",
    "    \n",
    "    print(str(j+1)+'.2')\n",
    "    comando = '6,10,60,'+str(deslocamento)+','+str(tempo_imerso_neg)+','+str(tempo_lavagem)+'\\n'\n",
    "    arduino.write(comando.encode('utf-8'))\n",
    "    arduino.readline()\n",
    "\n",
    "    comando = '7,10,60,'+str(deslocamento)+','+str(tempo_imerso_neg)+','+str(tempo_lavagem)+'\\n'\n",
    "    arduino.write(comando.encode('utf-8'))\n",
    "    arduino.readline()\n",
    "    time.sleep(10)\n",
    "\n",
    "arduino.close()\n",
    "\n"
   ]
  },
  {
   "cell_type": "code",
   "execution_count": null,
   "metadata": {},
   "outputs": [],
   "source": []
  }
 ],
 "metadata": {
  "kernelspec": {
   "display_name": "Python 3",
   "language": "python",
   "name": "python3"
  },
  "language_info": {
   "codemirror_mode": {
    "name": "ipython",
    "version": 3
   },
   "file_extension": ".py",
   "mimetype": "text/x-python",
   "name": "python",
   "nbconvert_exporter": "python",
   "pygments_lexer": "ipython3",
   "version": "3.7.4"
  }
 },
 "nbformat": 4,
 "nbformat_minor": 2
}
