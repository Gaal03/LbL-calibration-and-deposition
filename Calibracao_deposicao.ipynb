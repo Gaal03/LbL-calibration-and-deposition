{
 "cells": [
  {
   "cell_type": "code",
   "execution_count": 10,
   "metadata": {},
   "outputs": [],
   "source": [
    "#import visa\n",
    "import serial\n",
    "import numpy as np\n",
    "import time\n",
    "import matplotlib.pyplot as plt\n",
    "import io\n",
    "#rm = visa.ResourceManager()"
   ]
  },
  {
   "cell_type": "code",
   "execution_count": 20,
   "metadata": {},
   "outputs": [],
   "source": [
    "#### Conectar instrumento ####\n",
    "\n",
    "\n",
    "arduino = serial.Serial('COM6')\n",
    "\n"
   ]
  },
  {
   "cell_type": "code",
   "execution_count": 19,
   "metadata": {},
   "outputs": [
    {
     "name": "stdout",
     "output_type": "stream",
     "text": [
      "acabei\n"
     ]
    }
   ],
   "source": [
    "#### Configuração da deposição ####\n",
    "#arduino = serial.Serial('COM9')\n",
    "## 1 - Up\n",
    "## 2 - Down\n",
    "## 3 - Left\n",
    "## 4 - Right\n",
    "## 7 - Return to initial point\n",
    "\n",
    "deslocamento = 56 ## deslocamento em z(mm)\n",
    "tempo_imerso_pos = 0\n",
    "tempo_lavagem = 0\n",
    "\n",
    "comando = '3,80,80,'+str(deslocamento)+',0,0,0'+'\\n'\n",
    "arduino.write(comando.encode('utf-8'))\n",
    "arduino.readline()\n",
    "#print(line)\n",
    "#time.sleep(1)\n",
    "print(\"acabei\")\n",
    "#comando = '3,80,80,'+str(deslocamento)+','+str(tempo_imerso_pos)+','+str(tempo_lavagem)+'\\n'\n",
    "#arduino.write(comando.encode('utf-8'))\n",
    "#arduino.readline()\n",
    "\n",
    "arduino.close()\n"
   ]
  },
  {
   "cell_type": "code",
   "execution_count": 21,
   "metadata": {},
   "outputs": [],
   "source": [
    "#### Configuração da deposição ####\n",
    "#arduino = serial.Serial('COM9')\n",
    "## 1 - Up\n",
    "## 2 - Down\n",
    "## 3 - Left\n",
    "## 4 - Right\n",
    "## 7 - Return to initial point\n",
    "## 10 - Deposition Routine\n",
    "\n",
    "n_bicamadas = 20\n",
    "deslocamento = 56 ## deslocamento em z(mm)\n",
    "tempo_imerso_pos = 15 # em minutos\n",
    "tempo_imerso_neg = 15 # em minutos\n",
    "tempo_lavagem = 2\n",
    "\n",
    "comando = '10,10,60,'+str(deslocamento)+','+str(tempo_imerso_pos)+','+str(tempo_lavagem)+','+str(n_bicamadas)+'\\n'\n",
    "arduino.write(comando.encode('utf-8'))\n",
    "#arduino.readline()\n",
    "\n",
    "\n",
    "#print(line)\n",
    "#time.sleep(1)\n",
    "#print(\"acabei\")\n",
    "#comando = '3,80,80,'+str(deslocamento)+','+str(tempo_imerso_pos)+','+str(tempo_lavagem)+'\\n'\n",
    "#arduino.write(comando.encode('utf-8'))\n",
    "#arduino.readline()\n",
    "\n",
    "arduino.close()"
   ]
  },
  {
   "cell_type": "code",
   "execution_count": null,
   "metadata": {},
   "outputs": [],
   "source": [
    "arduino.close()"
   ]
  }
 ],
 "metadata": {
  "kernelspec": {
   "display_name": "Python 3",
   "language": "python",
   "name": "python3"
  },
  "language_info": {
   "codemirror_mode": {
    "name": "ipython",
    "version": 3
   },
   "file_extension": ".py",
   "mimetype": "text/x-python",
   "name": "python",
   "nbconvert_exporter": "python",
   "pygments_lexer": "ipython3",
   "version": "3.8.5"
  }
 },
 "nbformat": 4,
 "nbformat_minor": 2
}
